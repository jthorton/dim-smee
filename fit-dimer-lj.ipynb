{
 "cells": [
  {
   "cell_type": "code",
   "execution_count": null,
   "id": "cdbc6cd586f46de1",
   "metadata": {
    "ExecuteTime": {
     "end_time": "2023-09-17T01:24:14.104301Z",
     "start_time": "2023-09-17T01:24:10.801151Z"
    },
    "collapsed": false
   },
   "outputs": [],
   "source": [
    "import typing\n",
    "\n",
    "import openff.interchange\n",
    "import openff.toolkit\n",
    "import pandas\n",
    "import torch\n",
    "from rdkit import Chem\n",
    "\n",
    "import smee\n",
    "from utils import load_dimers, mol_to_image, plot_energies, compute_dimer_vdw_energy\n"
   ]
  },
  {
   "cell_type": "code",
   "execution_count": null,
   "id": "50c0847a34f99632",
   "metadata": {
    "ExecuteTime": {
     "end_time": "2023-09-17T01:26:53.807114Z",
     "start_time": "2023-09-17T01:24:14.106967Z"
    },
    "collapsed": false
   },
   "outputs": [],
   "source": [
    "openff_ff = openff.toolkit.ForceField(\"openff-2.1.0.offxml\")\n",
    "\n",
    "dataset = \"DESS66x8\"\n",
    "results_folder = \"DES66x8-fittings/results/\"\n",
    "fit_name = \"sage-2.1-opt\"\n",
    "tensor_ff, dimers = load_dimers(dataset_name=dataset, forcefield=openff_ff)"
   ]
  },
  {
   "cell_type": "code",
   "execution_count": null,
   "id": "ffa0943f15525582",
   "metadata": {
    "ExecuteTime": {
     "end_time": "2023-09-17T01:27:08.239263Z",
     "start_time": "2023-09-17T01:26:53.821169Z"
    },
    "collapsed": false
   },
   "outputs": [],
   "source": [
    "import copy\n",
    "\n",
    "vdw_potential_initial = tensor_ff.potentials_by_type[\"vdW\"]\n",
    "vdw_potential = copy.deepcopy(vdw_potential_initial)\n",
    "\n",
    "vdw_parameters_sqrt = torch.clone(vdw_potential.parameters).sqrt()\n",
    "vdw_parameters_sqrt.requires_grad = True\n",
    "\n",
    "# fitting_tensor_ff = copy.deepcopy(tensor_ff)\n",
    "\n",
    "# fitting_tensor_ff.v_sites.parameters.requires_grad = True\n",
    "\n",
    "\n",
    "# optimizer = torch.optim.Adam([vdw_parameters_sqrt, fitting_tensor_ff.v_sites.parameters], lr=0.001)\n",
    "optimizer = torch.optim.Adam([vdw_parameters_sqrt], lr=0.001)\n",
    "\n",
    "for epoch in range(1000):\n",
    "    # prevent negative values and bug where gradient is NaN\n",
    "    vdw_potential.parameters = vdw_parameters_sqrt**2\n",
    "    vdw_potential.parameters[:, 0] += 1.0e-10\n",
    "\n",
    "    loss = torch.zeros(1)\n",
    "\n",
    "    for dimer in dimers:\n",
    "        ana2b_d3 = dimer.ana2b_v_ana + dimer.ana2b_v_d3\n",
    "\n",
    "        lj_energies = compute_dimer_vdw_energy(dimer=dimer, potential=vdw_potential, ff=tensor_ff)\n",
    "\n",
    "        loss += torch.sum((ana2b_d3 - lj_energies) ** 2)\n",
    "\n",
    "    loss.backward()\n",
    "    # hide gradients of other v-site parameters\n",
    "    # fitting_tensor_ff.v_sites.parameters.grad[:, 1:] = 0.0\n",
    "    # make sure the normal H LJ has no gradient only needed when fitting contracted sites\n",
    "    # vdw_parameters_sqrt.grad[4, 0] = 0.0 \n",
    "    optimizer.step()\n",
    "    optimizer.zero_grad()\n",
    "\n",
    "    if epoch % 5 == 0 or epoch == 74:\n",
    "        print(f\"Epoch {epoch}: loss={loss.item()} kcal / mol\")"
   ]
  },
  {
   "cell_type": "code",
   "execution_count": null,
   "id": "f727daa9cbd1a2ae",
   "metadata": {
    "ExecuteTime": {
     "end_time": "2023-09-17T01:27:14.266591Z",
     "start_time": "2023-09-17T01:27:08.242252Z"
    },
    "collapsed": false
   },
   "outputs": [],
   "source": [
    "import numpy as np\n",
    "import os\n",
    "\n",
    "rows = []\n",
    "energy_diff_initial = []\n",
    "energy_diff_final = []\n",
    "\n",
    "\n",
    "for dimer in dimers:\n",
    "\n",
    "    ccsd_energies = dimer.ccsd\n",
    "    ana2b_d3 = dimer.ana2b_v_ana + dimer.ana2b_v_d3\n",
    "\n",
    "    lj_energies_initial = compute_dimer_vdw_energy(dimer=dimer, potential=vdw_potential_initial, ff=tensor_ff)\n",
    "    lj_energies_opt = compute_dimer_vdw_energy(dimer=dimer, potential=vdw_potential, ff=tensor_ff)\n",
    "\n",
    "    energy_diff_initial.extend(lj_energies_initial.numpy() - ana2b_d3.numpy())\n",
    "    opt_lj = lj_energies_opt.detach().numpy()\n",
    "    energy_diff_final.extend(opt_lj - ana2b_d3.numpy())\n",
    "\n",
    "    rows.append(\n",
    "        {\n",
    "            \"Dimer\": mol_to_image(dimer.smiles_a, dimer.smiles_b),\n",
    "            \"Group\": dimer.group_id,\n",
    "            f\"Energy \": plot_energies(\n",
    "                dimer.distances,\n",
    "                {\n",
    "                    \"Sage LJ\": lj_energies_initial,\n",
    "                    \"CCSD\": ccsd_energies,\n",
    "                    \"ANA2B+D3\": ana2b_d3,\n",
    "                    \"Opt LJ\": lj_energies_opt,\n",
    "                },\n",
    "            ),\n",
    "            \"Sage LJ RMSE [kcal / mol]\": np.sqrt(np.mean((lj_energies_initial.numpy() - ana2b_d3.numpy()) **2)),\n",
    "            \"Opt LJ RMSE [kcal / mol]\": np.sqrt(np.mean((opt_lj - ana2b_d3.numpy()) **2))\n",
    "        }\n",
    "    )\n",
    "rows.append({\"Sage LJ RMSE [kcal / mol]\": np.sqrt(np.mean(np.square(energy_diff_initial))), \"Opt LJ RMSE [kcal / mol]\": np.sqrt(np.mean(np.square(energy_diff_final)))})\n",
    "os.makedirs(os.path.join(results_folder, fit_name))\n",
    "pandas.DataFrame(rows).to_html(os.path.join(results_folder, fit_name, \"sage-2.1-opt-lj.html\"), escape=False, index=False)"
   ]
  },
  {
   "cell_type": "code",
   "execution_count": null,
   "id": "f1a56156",
   "metadata": {},
   "outputs": [],
   "source": [
    "# save the new LJ values back to the force field and write to file\n",
    "from openff.units import unit\n",
    "\n",
    "vdw_handler = openff_ff.get_parameter_handler(\"vdW\")\n",
    "for i in range(len(vdw_potential.parameters)):\n",
    "    smirks = vdw_potential.parameter_keys[i].id\n",
    "    if \"EP\" not in smirks:\n",
    "       # update the parameter\n",
    "       p = vdw_handler[smirks]\n",
    "       epsilon, sigma = vdw_potential.parameters[i].detach().numpy()\n",
    "       p.epsilon = epsilon * unit.kilocalorie / unit.mole\n",
    "       p.sigma = sigma * unit.angstrom"
   ]
  },
  {
   "cell_type": "code",
   "execution_count": null,
   "id": "597ebbd5",
   "metadata": {},
   "outputs": [],
   "source": [
    "openff_ff.to_file(os.path.join(results_folder, fit_name, \"opt_ff.offxml\"))"
   ]
  },
  {
   "cell_type": "code",
   "execution_count": null,
   "id": "7268d94b",
   "metadata": {},
   "outputs": [],
   "source": [
    "# create a table of the parameter changes and save to csv also include a plot of parameter change?\n",
    "parameter_changes = []\n",
    "for i in range(len(vdw_potential.parameter_keys)):\n",
    "    initial_params = vdw_potential_initial.parameters[i].numpy()\n",
    "    final_params = vdw_potential.parameters[i].detach().numpy()\n",
    "    parameter_changes.append(\n",
    "        {\n",
    "            \"smirks\": vdw_potential.parameter_keys[i].id,\n",
    "            \"epsilon initial\": initial_params[0],\n",
    "            \"epsilon final\": final_params[0],\n",
    "            \"sigma initial\": initial_params[1],\n",
    "            \"sigma final\": final_params[1]\n",
    "         }\n",
    "    )\n",
    "\n",
    "pandas.DataFrame(parameter_changes).to_csv(os.path.join(results_folder, fit_name, \"opt_ff_changes.csv\"), index=False)"
   ]
  },
  {
   "cell_type": "code",
   "execution_count": null,
   "id": "1a90ae93",
   "metadata": {},
   "outputs": [],
   "source": []
  }
 ],
 "metadata": {
  "kernelspec": {
   "display_name": "Python 3",
   "language": "python",
   "name": "python3"
  },
  "language_info": {
   "codemirror_mode": {
    "name": "ipython",
    "version": 3
   },
   "file_extension": ".py",
   "mimetype": "text/x-python",
   "name": "python",
   "nbconvert_exporter": "python",
   "pygments_lexer": "ipython3",
   "version": "3.11.6"
  }
 },
 "nbformat": 4,
 "nbformat_minor": 5
}
